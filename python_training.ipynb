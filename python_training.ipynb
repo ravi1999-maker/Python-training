{
 "cells": [
  {
   "cell_type": "code",
   "execution_count": 3,
   "id": "2ab4ab84",
   "metadata": {},
   "outputs": [
    {
     "data": {
      "text/plain": [
       "'Hi'"
      ]
     },
     "execution_count": 3,
     "metadata": {},
     "output_type": "execute_result"
    }
   ],
   "source": [
    "'Hi'"
   ]
  },
  {
   "cell_type": "code",
   "execution_count": 4,
   "id": "2fd99ae1",
   "metadata": {},
   "outputs": [
    {
     "name": "stdout",
     "output_type": "stream",
     "text": [
      "1.Create Employee record\n",
      "2.Update Employee record\n",
      "3.Delete Employee record\n",
      "4.Display Employee record\n",
      "5.Exit\n",
      "Enter choice: 5\n"
     ]
    }
   ],
   "source": [
    "\n",
    "emp_info = {}\n",
    "\n",
    "while True:\n",
    "    print(\"1.Create Employee record\")\n",
    "    print(\"2.Update Employee record\")\n",
    "    print(\"3.Delete Employee record\")\n",
    "    print(\"4.Display Employee record\")\n",
    "    print(\"5.Exit\") \n",
    "    \n",
    "    ch = int(input(\"Enter choice: \"))\n",
    "    \n",
    "    if ch == 1:\n",
    "        name = input(\"Enter employee name: \")\n",
    "        Emp_id = int(input(\"Enter employee Id: \"))\n",
    "        ph = input(\"Enter employee phone number: \")\n",
    "        tech = input(\"Technologies [comma separated eg: C++, Java, python]\")\n",
    "        emp_info[emp_id] = {\"name\": name, \"phone\":ph, \"tech\":tech.split(',')}\n",
    "    elif ch==2:\n",
    "        who =int(input(\"Whose details you want to update? (Please enter emp id): \"))\n",
    "        rec = emp_info[who]\n",
    "        for field,value in rec.items():\n",
    "            new  = input('{}({})'.format(field,value))\n",
    "            emp_info[who][field] = value if new == '' else new\n",
    "    elif ch==3:\n",
    "        who=int(input(\"Enter the employee id: \"))\n",
    "        if who in emp_info:\n",
    "            del emp_info[who]\n",
    "            print(\"Employee info deleted successfully!\")\n",
    "        else:\n",
    "            print(\"Record not found!\")\n",
    "    elif ch==4:\n",
    "            print(emp_info)\n",
    "    else:\n",
    "            break"
   ]
  },
  {
   "cell_type": "code",
   "execution_count": 5,
   "id": "fb67ea75",
   "metadata": {},
   "outputs": [
    {
     "data": {
      "text/plain": [
       "[0, 1, 2, 3, 4, 5, 6, 7, 8, 9]"
      ]
     },
     "execution_count": 5,
     "metadata": {},
     "output_type": "execute_result"
    }
   ],
   "source": [
    "[x for x in range(10)]"
   ]
  },
  {
   "cell_type": "code",
   "execution_count": 6,
   "id": "4aeffdbf",
   "metadata": {},
   "outputs": [
    {
     "data": {
      "text/plain": [
       "[0, 2, 4, 6, 8]"
      ]
     },
     "execution_count": 6,
     "metadata": {},
     "output_type": "execute_result"
    }
   ],
   "source": [
    "\n",
    "[x for x in range(10) if x%2==0 ]\n"
   ]
  },
  {
   "cell_type": "code",
   "execution_count": 7,
   "id": "b8255644",
   "metadata": {},
   "outputs": [
    {
     "name": "stdout",
     "output_type": "stream",
     "text": [
      "Enter num:5\n",
      "25\n"
     ]
    }
   ],
   "source": [
    "n = [1,2,3,4,5,6,7]\n",
    "num = int(input(\"Enter num:\"))\n",
    "sq = [num**2 for num in n]\n",
    "idx_pos  = n.index(num)\n",
    "print(sq[idx_pos])"
   ]
  },
  {
   "cell_type": "code",
   "execution_count": 8,
   "id": "ee38da0e",
   "metadata": {},
   "outputs": [
    {
     "data": {
      "text/plain": [
       "{1: 1, 2: 4, 3: 9, 4: 16, 5: 25}"
      ]
     },
     "execution_count": 8,
     "metadata": {},
     "output_type": "execute_result"
    }
   ],
   "source": [
    "{k:k**2 for k in range(1,6)}"
   ]
  },
  {
   "cell_type": "code",
   "execution_count": 9,
   "id": "a7f4a407",
   "metadata": {},
   "outputs": [
    {
     "data": {
      "text/plain": [
       "{0: 45, 1: 77, 2: 109, 3: 'data', 4: ['raj', 'rohan']}"
      ]
     },
     "execution_count": 9,
     "metadata": {},
     "output_type": "execute_result"
    }
   ],
   "source": [
    "\n",
    "tp = (45,77,109,'data',[\"raj\",\"rohan\"])\n",
    "\n",
    "{k:tp[k] for k in range (len(tp))}"
   ]
  },
  {
   "cell_type": "code",
   "execution_count": 10,
   "id": "dd05dee0",
   "metadata": {},
   "outputs": [
    {
     "data": {
      "text/plain": [
       "{0: 45, 1: 77, 2: 109, 3: 'data', 4: ['raj', 'rohan']}"
      ]
     },
     "execution_count": 10,
     "metadata": {},
     "output_type": "execute_result"
    }
   ],
   "source": [
    "{tp.index(v):v for v in tp}"
   ]
  },
  {
   "cell_type": "code",
   "execution_count": 11,
   "id": "b6b2f210",
   "metadata": {},
   "outputs": [
    {
     "name": "stdout",
     "output_type": "stream",
     "text": [
      "(['raj', 'rohan'], 'data', 109, 77, 45)\n"
     ]
    }
   ],
   "source": [
    "\n",
    "res = tp[::-1]\n",
    "print(res)"
   ]
  },
  {
   "cell_type": "code",
   "execution_count": 12,
   "id": "6bf3ee25",
   "metadata": {},
   "outputs": [
    {
     "data": {
      "text/plain": [
       "['__and__',\n",
       " '__class__',\n",
       " '__class_getitem__',\n",
       " '__contains__',\n",
       " '__delattr__',\n",
       " '__dir__',\n",
       " '__doc__',\n",
       " '__eq__',\n",
       " '__format__',\n",
       " '__ge__',\n",
       " '__getattribute__',\n",
       " '__gt__',\n",
       " '__hash__',\n",
       " '__iand__',\n",
       " '__init__',\n",
       " '__init_subclass__',\n",
       " '__ior__',\n",
       " '__isub__',\n",
       " '__iter__',\n",
       " '__ixor__',\n",
       " '__le__',\n",
       " '__len__',\n",
       " '__lt__',\n",
       " '__ne__',\n",
       " '__new__',\n",
       " '__or__',\n",
       " '__rand__',\n",
       " '__reduce__',\n",
       " '__reduce_ex__',\n",
       " '__repr__',\n",
       " '__ror__',\n",
       " '__rsub__',\n",
       " '__rxor__',\n",
       " '__setattr__',\n",
       " '__sizeof__',\n",
       " '__str__',\n",
       " '__sub__',\n",
       " '__subclasshook__',\n",
       " '__xor__',\n",
       " 'add',\n",
       " 'clear',\n",
       " 'copy',\n",
       " 'difference',\n",
       " 'difference_update',\n",
       " 'discard',\n",
       " 'intersection',\n",
       " 'intersection_update',\n",
       " 'isdisjoint',\n",
       " 'issubset',\n",
       " 'issuperset',\n",
       " 'pop',\n",
       " 'remove',\n",
       " 'symmetric_difference',\n",
       " 'symmetric_difference_update',\n",
       " 'union',\n",
       " 'update']"
      ]
     },
     "execution_count": 12,
     "metadata": {},
     "output_type": "execute_result"
    }
   ],
   "source": [
    "dir(set)"
   ]
  },
  {
   "cell_type": "code",
   "execution_count": 13,
   "id": "f5a6eef1",
   "metadata": {},
   "outputs": [],
   "source": [
    "def greeting(*args, phone=\"1234\", add = \"Pune\"):\n",
    "    print(\"args {}\".format(args))\n",
    "    print(\"Phone {}\".format(phone))\n",
    "    print(\"address {}\".format(add))"
   ]
  },
  {
   "cell_type": "code",
   "execution_count": 14,
   "id": "b82ca546",
   "metadata": {},
   "outputs": [
    {
     "name": "stdout",
     "output_type": "stream",
     "text": [
      "args (['prem', 29],)\n",
      "Phone 1234\n",
      "address Pune\n"
     ]
    }
   ],
   "source": [
    "greeting([\"prem\",29])"
   ]
  },
  {
   "cell_type": "code",
   "execution_count": 15,
   "id": "85a9c3e8",
   "metadata": {},
   "outputs": [],
   "source": [
    "def get_data(name, *args, **kwargs):\n",
    "    print(\"name\", name)\n",
    "    print(\"args\", args)\n",
    "    print(\"kwargs\", kwargs)"
   ]
  },
  {
   "cell_type": "code",
   "execution_count": 16,
   "id": "3093e40d",
   "metadata": {},
   "outputs": [
    {
     "name": "stdout",
     "output_type": "stream",
     "text": [
      "name Prem\n",
      "args (22, 40000)\n",
      "kwargs {'phone': '12345', 'location': 'Pune'}\n"
     ]
    }
   ],
   "source": [
    "get_data(\"Prem\", 22, 40000, phone=\"12345\", location=\"Pune\")"
   ]
  },
  {
   "cell_type": "code",
   "execution_count": 17,
   "id": "5e8cd006",
   "metadata": {},
   "outputs": [],
   "source": [
    "def get_naturalNum(num):\n",
    "    for i in range(1,num+1):\n",
    "        print(i)"
   ]
  },
  {
   "cell_type": "code",
   "execution_count": 18,
   "id": "ccd6b2e3",
   "metadata": {},
   "outputs": [
    {
     "name": "stdout",
     "output_type": "stream",
     "text": [
      "1\n",
      "2\n",
      "3\n",
      "4\n",
      "5\n",
      "6\n",
      "7\n",
      "8\n",
      "9\n",
      "10\n"
     ]
    }
   ],
   "source": [
    "get_naturalNum(10)"
   ]
  },
  {
   "cell_type": "code",
   "execution_count": 19,
   "id": "5dbdf7d1",
   "metadata": {},
   "outputs": [
    {
     "name": "stdout",
     "output_type": "stream",
     "text": [
      "[4, 16, 25, 36]\n"
     ]
    }
   ],
   "source": [
    "def square(x):\n",
    "    return x**2\n",
    "\n",
    "print(list(map(square, {2,4,5,6,6})))"
   ]
  },
  {
   "cell_type": "code",
   "execution_count": 20,
   "id": "8aedb269",
   "metadata": {},
   "outputs": [],
   "source": [
    "\n",
    "def outer():\n",
    "    i=10\n",
    "    def inner():\n",
    "        print(i)\n",
    "        print(\"inner\")\n",
    "    def inner2():\n",
    "        print(\"inner2\")\n",
    "    inner()\n",
    "    inner2()\n",
    "    return inner, inner2"
   ]
  },
  {
   "cell_type": "code",
   "execution_count": 21,
   "id": "9da240d6",
   "metadata": {},
   "outputs": [
    {
     "name": "stdout",
     "output_type": "stream",
     "text": [
      "10\n",
      "inner\n",
      "inner2\n"
     ]
    }
   ],
   "source": [
    "\n",
    "p=outer()"
   ]
  },
  {
   "cell_type": "code",
   "execution_count": 22,
   "id": "efaa7633",
   "metadata": {},
   "outputs": [
    {
     "name": "stdout",
     "output_type": "stream",
     "text": [
      "10\n",
      "inner\n"
     ]
    }
   ],
   "source": [
    "p[0]()"
   ]
  },
  {
   "cell_type": "code",
   "execution_count": 23,
   "id": "63053c1f",
   "metadata": {},
   "outputs": [
    {
     "name": "stdout",
     "output_type": "stream",
     "text": [
      "inner2\n"
     ]
    }
   ],
   "source": [
    "p[1]()"
   ]
  },
  {
   "cell_type": "code",
   "execution_count": 24,
   "id": "5febcbfc",
   "metadata": {},
   "outputs": [],
   "source": [
    "\n",
    "def outer(f):\n",
    "    def inner():\n",
    "        result=f()\n",
    "        return result**2\n",
    "    return inner"
   ]
  },
  {
   "cell_type": "code",
   "execution_count": 25,
   "id": "7900ce5b",
   "metadata": {},
   "outputs": [],
   "source": [
    "def num():\n",
    "    return 5"
   ]
  },
  {
   "cell_type": "code",
   "execution_count": 26,
   "id": "4b359834",
   "metadata": {},
   "outputs": [],
   "source": [
    "\n",
    "r = outer(num)"
   ]
  },
  {
   "cell_type": "code",
   "execution_count": 29,
   "id": "e448f2bd",
   "metadata": {},
   "outputs": [
    {
     "ename": "TypeError",
     "evalue": "'tuple' object is not callable",
     "output_type": "error",
     "traceback": [
      "\u001b[1;31m---------------------------------------------------------------------------\u001b[0m",
      "\u001b[1;31mTypeError\u001b[0m                                 Traceback (most recent call last)",
      "\u001b[1;32mC:\\Users\\RAVIKU~1\\AppData\\Local\\Temp/ipykernel_2900/1090894479.py\u001b[0m in \u001b[0;36m<module>\u001b[1;34m\u001b[0m\n\u001b[1;32m----> 1\u001b[1;33m \u001b[0mr\u001b[0m\u001b[1;33m(\u001b[0m\u001b[1;33m)\u001b[0m\u001b[1;33m\u001b[0m\u001b[1;33m\u001b[0m\u001b[0m\n\u001b[0m",
      "\u001b[1;31mTypeError\u001b[0m: 'tuple' object is not callable"
     ]
    }
   ],
   "source": [
    "\n",
    "r()"
   ]
  },
  {
   "cell_type": "code",
   "execution_count": 30,
   "id": "cc5ac0b1",
   "metadata": {},
   "outputs": [],
   "source": [
    "\n",
    "@outer\n",
    "def num():\n",
    "    return 5"
   ]
  },
  {
   "cell_type": "code",
   "execution_count": 31,
   "id": "c47e2add",
   "metadata": {},
   "outputs": [
    {
     "data": {
      "text/plain": [
       "25"
      ]
     },
     "execution_count": 31,
     "metadata": {},
     "output_type": "execute_result"
    }
   ],
   "source": [
    "num()"
   ]
  },
  {
   "cell_type": "code",
   "execution_count": 32,
   "id": "2a2c6e15",
   "metadata": {},
   "outputs": [],
   "source": [
    "def outer(f):\n",
    "    def inner(n1,n2):\n",
    "        result=f(n1,n2)\n",
    "        return result**2\n",
    "    return inner"
   ]
  },
  {
   "cell_type": "code",
   "execution_count": 33,
   "id": "63c23ac2",
   "metadata": {},
   "outputs": [],
   "source": [
    "\n",
    "@outer\n",
    "def num(n1,n2):\n",
    "    return n1+n2+5"
   ]
  },
  {
   "cell_type": "code",
   "execution_count": 34,
   "id": "b777dd37",
   "metadata": {},
   "outputs": [
    {
     "data": {
      "text/plain": [
       "196"
      ]
     },
     "execution_count": 34,
     "metadata": {},
     "output_type": "execute_result"
    }
   ],
   "source": [
    "num(5,4)"
   ]
  },
  {
   "cell_type": "code",
   "execution_count": 35,
   "id": "b982409a",
   "metadata": {},
   "outputs": [],
   "source": [
    "\n",
    "def validate(func):\n",
    "    def validator(*args, **kwargs):\n",
    "        if len(args)>1:\n",
    "            if args[1]==0:\n",
    "                print(\"Please enter non zero!\")\n",
    "                return None\n",
    "            else:\n",
    "                power = func(args[0],args[1])\n",
    "                return power\n",
    "        else:\n",
    "            print(\"Invalid args!\")\n",
    "    return validator"
   ]
  },
  {
   "cell_type": "code",
   "execution_count": 36,
   "id": "c39c4d36",
   "metadata": {},
   "outputs": [],
   "source": [
    "import math"
   ]
  },
  {
   "cell_type": "code",
   "execution_count": 37,
   "id": "f705d200",
   "metadata": {},
   "outputs": [],
   "source": [
    "@validate\n",
    "def mypower(x,y):\n",
    "    return math.pow(x,y)"
   ]
  },
  {
   "cell_type": "code",
   "execution_count": 38,
   "id": "9367aa4a",
   "metadata": {},
   "outputs": [
    {
     "data": {
      "text/plain": [
       "100.0"
      ]
     },
     "execution_count": 38,
     "metadata": {},
     "output_type": "execute_result"
    }
   ],
   "source": [
    "mypower(10,2)"
   ]
  },
  {
   "cell_type": "code",
   "execution_count": 39,
   "id": "43e69b50",
   "metadata": {},
   "outputs": [
    {
     "data": {
      "text/plain": [
       "[2, 4, 6, 8]"
      ]
     },
     "execution_count": 39,
     "metadata": {},
     "output_type": "execute_result"
    }
   ],
   "source": [
    "l1 = [1,2,3,4,5,6,7,8]\n",
    "list(filter(lambda x: x%2==0, l1))"
   ]
  },
  {
   "cell_type": "code",
   "execution_count": 40,
   "id": "c5706ee0",
   "metadata": {},
   "outputs": [
    {
     "data": {
      "text/plain": [
       "[1, 8, 27, 64, 125, 216, 343, 512]"
      ]
     },
     "execution_count": 40,
     "metadata": {},
     "output_type": "execute_result"
    }
   ],
   "source": [
    "l1 = [1,2,3,4,5,6,7,8]\n",
    "list(map(lambda x: pow(x,3), l1))"
   ]
  },
  {
   "cell_type": "code",
   "execution_count": 41,
   "id": "3cf03879",
   "metadata": {},
   "outputs": [],
   "source": [
    "\n",
    "def a_decorator_passing_arbitrary_arguments(function_to_decorate):\n",
    "    def a_wrapper_accepting_arbitrary_arguments(*args, **kwargs):\n",
    "        print(\"The positional arguments are\",args)\n",
    "        print(\"The keyword arguments are \",kwargs)\n",
    "        function_to_decorate(*args)\n",
    "    return a_wrapper_accepting_arbitrary_arguments\n",
    "\n",
    "@a_decorator_passing_arbitrary_arguments\n",
    "def function_with_no_arguments():\n",
    "    print(\"No arguments here\")"
   ]
  },
  {
   "cell_type": "code",
   "execution_count": 42,
   "id": "724d7de7",
   "metadata": {},
   "outputs": [
    {
     "name": "stdout",
     "output_type": "stream",
     "text": [
      "The positional arguments are ()\n",
      "The keyword arguments are  {}\n",
      "No arguments here\n"
     ]
    }
   ],
   "source": [
    "function_with_no_arguments()"
   ]
  },
  {
   "cell_type": "code",
   "execution_count": 43,
   "id": "539d66e5",
   "metadata": {},
   "outputs": [
    {
     "name": "stdout",
     "output_type": "stream",
     "text": [
      "Positional arguments are (10, 20, 30)\n",
      "keyword arguments are {}\n",
      "10 20 30\n"
     ]
    }
   ],
   "source": [
    "\n",
    "def accept_the_arguments(function_to_decorate):\n",
    "    def inner_function(*args, **kwargs):\n",
    "        print(\"Positional arguments are\", args)\n",
    "        print(\"keyword arguments are\", kwargs)\n",
    "        function_to_decorate(*args)\n",
    "    return inner_function\n",
    "\n",
    "@accept_the_arguments\n",
    "def function_with_args(a,b,c):\n",
    "    print(a,b,c)\n",
    "    \n",
    "function_with_args(10,20,30)"
   ]
  },
  {
   "cell_type": "code",
   "execution_count": 44,
   "id": "78235218",
   "metadata": {},
   "outputs": [],
   "source": [
    "\n",
    "def accepting_kwargs(function_to_decorate):\n",
    "    def inner_function(*args, **kwargs):\n",
    "        print(\"args values\",args)\n",
    "        print(\"positional args\", kwargs)\n",
    "        function_to_decorate(*args,**kwargs)\n",
    "    return inner_function\n",
    "\n",
    "@accepting_kwargs\n",
    "def function_with_args(*args,**kwargs):\n",
    "    print(\"Inside function args\", args)\n",
    "    print(\"kwargs...\", kwargs)"
   ]
  },
  {
   "cell_type": "code",
   "execution_count": 45,
   "id": "7716a3b0",
   "metadata": {},
   "outputs": [
    {
     "name": "stdout",
     "output_type": "stream",
     "text": [
      "args values (1, 2, 3)\n",
      "positional args {'name': 'Prem', 'address': 'Pune'}\n",
      "Inside function args (1, 2, 3)\n",
      "kwargs... {'name': 'Prem', 'address': 'Pune'}\n"
     ]
    }
   ],
   "source": [
    "function_with_args(1,2,3,name=\"Prem\", address=\"Pune\")"
   ]
  },
  {
   "cell_type": "code",
   "execution_count": 46,
   "id": "98a16eac",
   "metadata": {},
   "outputs": [],
   "source": [
    "\n",
    "#passing arguments to decorator\n",
    "\n",
    "def decorator_with_args(decorator_args1, decorator_args2, decorator_args3):\n",
    "    def decorator(func):\n",
    "        def wrapper(function_args1,function_args2,function_args3):\n",
    "            print(\"The wrapper can access all the variables\\n\"\n",
    "                  \"\\t from the decorator maker: {0}{1}{2}\\n\"\n",
    "                  \"\\t from the function call : {0}{1}{2}\\n\"\n",
    "                  \" and pass them into decorator function\".format(decorator_args1,decorator_args2,decorator_args3,\n",
    "                                                                  function_args1,function_args2,function_args3))\n",
    "            return func(function_args1,function_args2,function_args3)\n",
    "        return wrapper\n",
    "    return decorator\n",
    "\n",
    "pandas = \"pandas\"\n",
    "@decorator_with_args(pandas,\"numpy\", \"Scikit\")\n",
    "def actual_function(function_args1,function_args2,function_args3):\n",
    "    print(\"This is decorated function and it inly knows about it's args {0}{1}{2}\".format(function_args1,\n",
    "                                                                                         function_args2,\n",
    "                                                                                         function_args3))"
   ]
  },
  {
   "cell_type": "code",
   "execution_count": 47,
   "id": "4b2c2da5",
   "metadata": {},
   "outputs": [
    {
     "name": "stdout",
     "output_type": "stream",
     "text": [
      "The wrapper can access all the variables\n",
      "\t from the decorator maker: pandasnumpyScikit\n",
      "\t from the function call : pandasnumpyScikit\n",
      " and pass them into decorator function\n",
      "This is decorated function and it inly knows about it's args  john science tool\n"
     ]
    }
   ],
   "source": [
    "\n",
    "actual_function(\" john\", \" science\", \" tool\")"
   ]
  },
  {
   "cell_type": "code",
   "execution_count": 48,
   "id": "b8e89052",
   "metadata": {},
   "outputs": [
    {
     "name": "stdout",
     "output_type": "stream",
     "text": [
      "4\n"
     ]
    }
   ],
   "source": [
    "def count_digit(num):\n",
    "    count = 0\n",
    "    for i in str(num):\n",
    "        count += 1\n",
    "    return count\n",
    "\n",
    "print(count_digit(7896))"
   ]
  },
  {
   "cell_type": "code",
   "execution_count": 49,
   "id": "11c38789",
   "metadata": {},
   "outputs": [],
   "source": [
    "#Chaining of decorator\n",
    "\n",
    "from functools import wraps\n",
    "\n",
    "\n",
    "def decor1(func):\n",
    "    def inner():\n",
    "        x=func()\n",
    "        print(\"x in decor2\", x)\n",
    "        return x*x\n",
    "    return inner\n",
    "\n",
    "def decor(func):\n",
    "    def inner():\n",
    "        x=func()\n",
    "        print(\"x in decor 1st..\",x)\n",
    "        return 2*x\n",
    "    return inner\n",
    "\n",
    "@decor1\n",
    "@decor\n",
    "def num():\n",
    "    return 10"
   ]
  },
  {
   "cell_type": "code",
   "execution_count": 50,
   "id": "96054737",
   "metadata": {},
   "outputs": [
    {
     "name": "stdout",
     "output_type": "stream",
     "text": [
      "x in decor 1st.. 10\n",
      "x in decor2 20\n"
     ]
    },
    {
     "data": {
      "text/plain": [
       "400"
      ]
     },
     "execution_count": 50,
     "metadata": {},
     "output_type": "execute_result"
    }
   ],
   "source": [
    "num()"
   ]
  },
  {
   "cell_type": "code",
   "execution_count": 51,
   "id": "aca94ed2",
   "metadata": {},
   "outputs": [],
   "source": [
    "#generator\n",
    "\n",
    "def simple_generator():\n",
    "        print(\"hi\")\n",
    "        yield 'Hello'\n",
    "        x=10\n",
    "        y=x+10\n",
    "        print(y)\n",
    "        yield 'Hello World'\n",
    "        yield x"
   ]
  },
  {
   "cell_type": "code",
   "execution_count": 52,
   "id": "12e3782f",
   "metadata": {},
   "outputs": [
    {
     "data": {
      "text/plain": [
       "<generator object simple_generator at 0x000001BD73343890>"
      ]
     },
     "execution_count": 52,
     "metadata": {},
     "output_type": "execute_result"
    }
   ],
   "source": [
    "\n",
    "ret = simple_generator()\n",
    "ret"
   ]
  },
  {
   "cell_type": "code",
   "execution_count": 53,
   "id": "30253d03",
   "metadata": {},
   "outputs": [
    {
     "name": "stdout",
     "output_type": "stream",
     "text": [
      "hi\n",
      "Hello\n",
      "20\n",
      "Hello World\n",
      "10\n"
     ]
    }
   ],
   "source": [
    "for val in ret:\n",
    "    print(val)"
   ]
  },
  {
   "cell_type": "code",
   "execution_count": 58,
   "id": "60cb200f",
   "metadata": {},
   "outputs": [],
   "source": [
    "def fib(n):\n",
    "    num = []\n",
    "    f,s=0,1\n",
    "    while f<n:\n",
    "        num.append(f)\n",
    "        yield(f)\n",
    "        f,s = s,f+s\n",
    "    #print(num)"
   ]
  },
  {
   "cell_type": "code",
   "execution_count": 57,
   "id": "917a77b2",
   "metadata": {},
   "outputs": [
    {
     "ename": "StopIteration",
     "evalue": "",
     "output_type": "error",
     "traceback": [
      "\u001b[1;31m---------------------------------------------------------------------------\u001b[0m",
      "\u001b[1;31mStopIteration\u001b[0m                             Traceback (most recent call last)",
      "\u001b[1;32mC:\\Users\\RAVIKU~1\\AppData\\Local\\Temp/ipykernel_2900/167560125.py\u001b[0m in \u001b[0;36m<module>\u001b[1;34m\u001b[0m\n\u001b[1;32m----> 1\u001b[1;33m \u001b[0mnext\u001b[0m\u001b[1;33m(\u001b[0m\u001b[0mret\u001b[0m\u001b[1;33m)\u001b[0m\u001b[1;33m\u001b[0m\u001b[1;33m\u001b[0m\u001b[0m\n\u001b[0m",
      "\u001b[1;31mStopIteration\u001b[0m: "
     ]
    }
   ],
   "source": [
    "next(ret)"
   ]
  },
  {
   "cell_type": "code",
   "execution_count": 59,
   "id": "9945dddf",
   "metadata": {},
   "outputs": [],
   "source": [
    "res = fib(10)"
   ]
  },
  {
   "cell_type": "code",
   "execution_count": 60,
   "id": "c24135db",
   "metadata": {},
   "outputs": [
    {
     "data": {
      "text/plain": [
       "0"
      ]
     },
     "execution_count": 60,
     "metadata": {},
     "output_type": "execute_result"
    }
   ],
   "source": [
    "\n",
    "next(res)"
   ]
  },
  {
   "cell_type": "code",
   "execution_count": 61,
   "id": "50788c17",
   "metadata": {},
   "outputs": [],
   "source": [
    "def frange(start,stop,increment):\n",
    "    x=start\n",
    "    while x<stop:\n",
    "        yield x\n",
    "        x += increment"
   ]
  },
  {
   "cell_type": "code",
   "execution_count": 62,
   "id": "fdfa561a",
   "metadata": {},
   "outputs": [
    {
     "name": "stdout",
     "output_type": "stream",
     "text": [
      "<class 'generator'>\n",
      "0\n",
      "0.5\n",
      "1.0\n",
      "1.5\n",
      "2.0\n",
      "2.5\n",
      "3.0\n",
      "3.5\n"
     ]
    }
   ],
   "source": [
    "\n",
    "c = frange(0,4,0.5)\n",
    "print(type(c))\n",
    "\n",
    "for n in frange(0,4,0.5):\n",
    "    print(n)"
   ]
  },
  {
   "cell_type": "code",
   "execution_count": 63,
   "id": "6b9aead6",
   "metadata": {},
   "outputs": [
    {
     "name": "stdout",
     "output_type": "stream",
     "text": [
      "('a', 'b', 'c')\n",
      "('a', 'c', 'b')\n",
      "('b', 'a', 'c')\n",
      "('b', 'c', 'a')\n",
      "('c', 'a', 'b')\n",
      "('c', 'b', 'a')\n"
     ]
    }
   ],
   "source": [
    "from itertools import permutations\n",
    "item = ['a','b','c']\n",
    "\n",
    "for i in permutations(item):\n",
    "    print(i)"
   ]
  },
  {
   "cell_type": "code",
   "execution_count": 64,
   "id": "1dd3728c",
   "metadata": {},
   "outputs": [
    {
     "name": "stdout",
     "output_type": "stream",
     "text": [
      "('a', 'b', 'c')\n"
     ]
    }
   ],
   "source": [
    "from itertools import combinations\n",
    "item = ['a','b','c']\n",
    "\n",
    "for i in combinations(item,3):\n",
    "    print(i)"
   ]
  },
  {
   "cell_type": "code",
   "execution_count": 65,
   "id": "f050367f",
   "metadata": {},
   "outputs": [
    {
     "name": "stdout",
     "output_type": "stream",
     "text": [
      "0 a\n",
      "1 b\n",
      "2 c\n"
     ]
    }
   ],
   "source": [
    "mylist = ['a','b','c']\n",
    "for idx,val in enumerate(mylist):\n",
    "    print(idx,val)"
   ]
  },
  {
   "cell_type": "code",
   "execution_count": 66,
   "id": "9aa9b154",
   "metadata": {},
   "outputs": [
    {
     "name": "stdout",
     "output_type": "stream",
     "text": [
      "1 a\n",
      "2 b\n",
      "3 c\n"
     ]
    }
   ],
   "source": [
    "\n",
    "mylist = ['a','b','c']\n",
    "for idx,val in enumerate(mylist,1):\n",
    "    print(idx,val)"
   ]
  },
  {
   "cell_type": "code",
   "execution_count": 67,
   "id": "c2ba8522",
   "metadata": {},
   "outputs": [
    {
     "name": "stdout",
     "output_type": "stream",
     "text": [
      "1 101\n",
      "2 102\n",
      "3 103\n",
      "4 104\n",
      "5 105\n"
     ]
    }
   ],
   "source": [
    "\n",
    "x = [1,2,3,4,5]\n",
    "y = [101,102,103,104,105]\n",
    "\n",
    "for i,j in zip(x,y):\n",
    "    print(i,j)"
   ]
  },
  {
   "cell_type": "code",
   "execution_count": 68,
   "id": "915a9399",
   "metadata": {},
   "outputs": [
    {
     "name": "stdout",
     "output_type": "stream",
     "text": [
      "{1: 101, 2: 102, 3: 103, 4: 104, 5: 105}\n"
     ]
    }
   ],
   "source": [
    "\n",
    "x = [1,2,3,4,5]\n",
    "y = [101,102,103,104,105]\n",
    "d = {}\n",
    "for i,j in zip(x,y):\n",
    "    d[i] = j\n",
    "print(d)"
   ]
  },
  {
   "cell_type": "code",
   "execution_count": 69,
   "id": "6474c9ea",
   "metadata": {},
   "outputs": [
    {
     "name": "stdout",
     "output_type": "stream",
     "text": [
      "(1, 'x')\n",
      "(2, 'y')\n",
      "(3, 'z')\n"
     ]
    }
   ],
   "source": [
    "x = [1,2,3]\n",
    "y = ['x','y','z','w']\n",
    "\n",
    "for i in zip(x,y):\n",
    "    print(i)"
   ]
  },
  {
   "cell_type": "code",
   "execution_count": 70,
   "id": "683ad60f",
   "metadata": {},
   "outputs": [
    {
     "name": "stdout",
     "output_type": "stream",
     "text": [
      "(1, 'x')\n",
      "(2, 'y')\n",
      "(3, 'z')\n",
      "(None, 'w')\n"
     ]
    }
   ],
   "source": [
    "\n",
    "from itertools import zip_longest\n",
    "x = [1,2,3]\n",
    "y = ['x','y','z','w']\n",
    "\n",
    "for i in zip_longest(x,y):\n",
    "    print(i)"
   ]
  },
  {
   "cell_type": "code",
   "execution_count": 71,
   "id": "9d71bf86",
   "metadata": {},
   "outputs": [
    {
     "name": "stdout",
     "output_type": "stream",
     "text": [
      "(1, 'x', 10)\n",
      "(2, 'y', 20)\n",
      "(3, 'z', 30)\n"
     ]
    }
   ],
   "source": [
    "x = [1,2,3]\n",
    "y = ['x','y','z']\n",
    "z = [10,20,30]\n",
    "\n",
    "for i in zip(x,y,z):\n",
    "    print(i)"
   ]
  },
  {
   "cell_type": "code",
   "execution_count": 72,
   "id": "953dcff3",
   "metadata": {},
   "outputs": [
    {
     "name": "stdout",
     "output_type": "stream",
     "text": [
      "1\n",
      "2\n",
      "3\n",
      "x\n",
      "y\n",
      "z\n",
      "10\n",
      "20\n",
      "30\n"
     ]
    }
   ],
   "source": [
    "from itertools import chain\n",
    "for x in chain(x,y,z):\n",
    "    print(x)"
   ]
  },
  {
   "cell_type": "code",
   "execution_count": 74,
   "id": "cb40104b",
   "metadata": {},
   "outputs": [],
   "source": [
    "from collections import Iterable\n",
    "\n",
    "def  flatten(items,ignore_types=(str, bytes)):\n",
    "    for x in items:\n",
    "        if isinstance(x,Iterable) and not isinstance(x,ignore_types):\n",
    "            yield from flatten(x)\n",
    "        else:\n",
    "            yield x"
   ]
  },
  {
   "cell_type": "code",
   "execution_count": 75,
   "id": "7b1284bf",
   "metadata": {},
   "outputs": [
    {
     "name": "stdout",
     "output_type": "stream",
     "text": [
      "1\n",
      "2\n",
      "3\n",
      "4\n",
      "5\n",
      "6\n",
      "7\n",
      "8\n"
     ]
    }
   ],
   "source": [
    "\n",
    "items = [1,2,[3,4,[5,6],7],8]\n",
    "for x in flatten(items):\n",
    "    print(x)"
   ]
  },
  {
   "cell_type": "code",
   "execution_count": 76,
   "id": "78e2cec9",
   "metadata": {},
   "outputs": [
    {
     "name": "stdout",
     "output_type": "stream",
     "text": [
      "john\n",
      "ale\n",
      "fred\n",
      "8\n"
     ]
    }
   ],
   "source": [
    "\n",
    "items = ['john',['ale', 'fred'],8]\n",
    "for x in flatten(items):\n",
    "    print(x)"
   ]
  },
  {
   "cell_type": "code",
   "execution_count": 77,
   "id": "6a63b446",
   "metadata": {},
   "outputs": [],
   "source": [
    "with open(\"Sample.txt\",\"wt\") as f:\n",
    "    f.write(\"Hi\")\n",
    "    f.write(\"Hello\")"
   ]
  },
  {
   "cell_type": "code",
   "execution_count": 78,
   "id": "61997d2b",
   "metadata": {},
   "outputs": [
    {
     "name": "stdout",
     "output_type": "stream",
     "text": [
      "HiHello\n"
     ]
    }
   ],
   "source": [
    "f = open(\"Sample.txt\", \"rt\")\n",
    "data=f.read()\n",
    "f.close()\n",
    "print(data)"
   ]
  },
  {
   "cell_type": "code",
   "execution_count": 79,
   "id": "b9ae2d51",
   "metadata": {},
   "outputs": [],
   "source": [
    "import gzip\n",
    "with gzip.open(\"sample-new\",\"wt\") as f:\n",
    "    f.write(\"Text compression\")"
   ]
  },
  {
   "cell_type": "code",
   "execution_count": 80,
   "id": "df88483c",
   "metadata": {},
   "outputs": [],
   "source": [
    "import bz2\n",
    "with bz2.open(\"sample-bz\",\"wt\") as f:\n",
    "    f.write(\"Text compression\")"
   ]
  },
  {
   "cell_type": "code",
   "execution_count": 81,
   "id": "6ffc4ccf",
   "metadata": {},
   "outputs": [
    {
     "name": "stdout",
     "output_type": "stream",
     "text": [
      "text :  Text compression\n"
     ]
    }
   ],
   "source": [
    "import gzip\n",
    "with gzip.open(\"sample-new\",\"rt\") as f:\n",
    "    text = f.read()\n",
    "    print(\"text : \", text)"
   ]
  },
  {
   "cell_type": "code",
   "execution_count": 87,
   "id": "bc824140",
   "metadata": {},
   "outputs": [
    {
     "name": "stdout",
     "output_type": "stream",
     "text": [
      "['$Recycle.Bin', '$WinREAgent', 'Documents and Settings', 'DumpStack.log.tmp', 'hiberfil.sys', 'Intel', 'pagefile.sys', 'PerfLogs', 'Program Files', 'Program Files (x86)', 'ProgramData', 'Recovery', 'swapfile.sys', 'System Volume Information', 'Users', 'Windows']\n"
     ]
    }
   ],
   "source": [
    "import os\n",
    "name = os.listdir(\"/\")\n",
    "print(name)"
   ]
  },
  {
   "cell_type": "code",
   "execution_count": 89,
   "id": "35d00fd8",
   "metadata": {},
   "outputs": [],
   "source": [
    "\n",
    "#get all regular files\n",
    "import os.path\n",
    "names = [name for name in os.listdir(\"/\") if os.path.isfile(os.path.join('/',name))]"
   ]
  },
  {
   "cell_type": "code",
   "execution_count": 90,
   "id": "9294ed37",
   "metadata": {},
   "outputs": [
    {
     "data": {
      "text/plain": [
       "['DumpStack.log.tmp', 'hiberfil.sys', 'pagefile.sys', 'swapfile.sys']"
      ]
     },
     "execution_count": 90,
     "metadata": {},
     "output_type": "execute_result"
    }
   ],
   "source": [
    "names"
   ]
  },
  {
   "cell_type": "code",
   "execution_count": 91,
   "id": "a405bd6d",
   "metadata": {},
   "outputs": [],
   "source": [
    "dirnames = [name for name in os.listdir(\"/\") if os.path.isdir(os.path.join('/',name))]"
   ]
  },
  {
   "cell_type": "code",
   "execution_count": 92,
   "id": "d4079746",
   "metadata": {},
   "outputs": [
    {
     "data": {
      "text/plain": [
       "['$Recycle.Bin',\n",
       " '$WinREAgent',\n",
       " 'Documents and Settings',\n",
       " 'Intel',\n",
       " 'PerfLogs',\n",
       " 'Program Files',\n",
       " 'Program Files (x86)',\n",
       " 'ProgramData',\n",
       " 'Recovery',\n",
       " 'System Volume Information',\n",
       " 'Users',\n",
       " 'Windows']"
      ]
     },
     "execution_count": 92,
     "metadata": {},
     "output_type": "execute_result"
    }
   ],
   "source": [
    "dirnames"
   ]
  },
  {
   "cell_type": "code",
   "execution_count": 93,
   "id": "d41f0f4f",
   "metadata": {},
   "outputs": [],
   "source": [
    "import pickle"
   ]
  },
  {
   "cell_type": "code",
   "execution_count": 94,
   "id": "e77a5b0e",
   "metadata": {},
   "outputs": [],
   "source": [
    "dict_pickle = {\"key\":\"john\", \"name\" : \"fred\", \"age\":21, \"pat\":400000}\n",
    "f = open('pickle','wb')\n",
    "#dump the object\n",
    "pickle.dump(dict_pickle,f)"
   ]
  },
  {
   "cell_type": "code",
   "execution_count": 95,
   "id": "f1ebd6cb",
   "metadata": {},
   "outputs": [],
   "source": [
    "#dump into string\n",
    "s = pickle.dumps(dict_pickle)"
   ]
  },
  {
   "cell_type": "code",
   "execution_count": 96,
   "id": "51a99660",
   "metadata": {},
   "outputs": [
    {
     "name": "stdout",
     "output_type": "stream",
     "text": [
      "b'\\x80\\x04\\x953\\x00\\x00\\x00\\x00\\x00\\x00\\x00}\\x94(\\x8c\\x03key\\x94\\x8c\\x04john\\x94\\x8c\\x04name\\x94\\x8c\\x04fred\\x94\\x8c\\x03age\\x94K\\x15\\x8c\\x03pat\\x94J\\x80\\x1a\\x06\\x00u.'\n"
     ]
    }
   ],
   "source": [
    "print(s)"
   ]
  },
  {
   "cell_type": "code",
   "execution_count": 97,
   "id": "78996d6a",
   "metadata": {},
   "outputs": [],
   "source": [
    "\n",
    "f = open('pickle', 'rb')\n",
    "#load the object\n",
    "data = pickle.load(f)"
   ]
  },
  {
   "cell_type": "code",
   "execution_count": 98,
   "id": "a67ab870",
   "metadata": {},
   "outputs": [
    {
     "name": "stdout",
     "output_type": "stream",
     "text": [
      "{'key': 'john', 'name': 'fred', 'age': 21, 'pat': 400000}\n"
     ]
    }
   ],
   "source": [
    "print(data)"
   ]
  },
  {
   "cell_type": "code",
   "execution_count": 99,
   "id": "45f309a6",
   "metadata": {},
   "outputs": [],
   "source": [
    "import pickle"
   ]
  },
  {
   "cell_type": "code",
   "execution_count": 100,
   "id": "d599c11d",
   "metadata": {},
   "outputs": [],
   "source": [
    "f = open(\"somedata\", \"wb\")\n",
    "pickle.dump([1,2,3,4],f)\n",
    "pickle.dump(\"hello\",f)\n",
    "pickle.dump({\"apple\", \"pear\", \"banana\"}, f)"
   ]
  },
  {
   "cell_type": "code",
   "execution_count": 101,
   "id": "601b7b84",
   "metadata": {},
   "outputs": [],
   "source": [
    "f.close()"
   ]
  },
  {
   "cell_type": "code",
   "execution_count": 102,
   "id": "e85a8b88",
   "metadata": {},
   "outputs": [],
   "source": [
    "f = open(\"somedata\",\"rb\")"
   ]
  },
  {
   "cell_type": "code",
   "execution_count": 103,
   "id": "fecbda01",
   "metadata": {},
   "outputs": [
    {
     "data": {
      "text/plain": [
       "[1, 2, 3, 4]"
      ]
     },
     "execution_count": 103,
     "metadata": {},
     "output_type": "execute_result"
    }
   ],
   "source": [
    "pickle.load(f)"
   ]
  },
  {
   "cell_type": "code",
   "execution_count": 104,
   "id": "f93a68cc",
   "metadata": {},
   "outputs": [
    {
     "data": {
      "text/plain": [
       "'hello'"
      ]
     },
     "execution_count": 104,
     "metadata": {},
     "output_type": "execute_result"
    }
   ],
   "source": [
    "pickle.load(f)"
   ]
  },
  {
   "cell_type": "code",
   "execution_count": 105,
   "id": "73750e54",
   "metadata": {},
   "outputs": [
    {
     "data": {
      "text/plain": [
       "{'apple', 'banana', 'pear'}"
      ]
     },
     "execution_count": 105,
     "metadata": {},
     "output_type": "execute_result"
    }
   ],
   "source": [
    "pickle.load(f)"
   ]
  },
  {
   "cell_type": "code",
   "execution_count": 108,
   "id": "fd87ea31",
   "metadata": {},
   "outputs": [
    {
     "name": "stdout",
     "output_type": "stream",
     "text": [
      "Test1 ==> {'key': 'Test1', 'name': 'fred', 'age': 21, 'pay': 40000}\n",
      "Test2 ==> {'key': 'Test1', 'name': 'fred', 'age': 21, 'pay': 40000}\n"
     ]
    }
   ],
   "source": [
    "import pickle\n",
    "def storeData():\n",
    "    #initialization the data\n",
    "    pickle_dataset1 = {\"key\":\"Test1\", \"name\":\"fred\",\"age\":21,\"pay\":40000}\n",
    "    pickle_dataset2 = {\"key\":\"Test2\", \"name\":\"prem\",\"age\":22,\"pay\":60000}\n",
    "    \n",
    "    db={}\n",
    "    db['Test1'] = pickle_dataset1\n",
    "    db['Test2'] = pickle_dataset1\n",
    "    dbfile = open(\"ExamplePickle\",\"wb\")\n",
    "    pickle.dump(db,dbfile)\n",
    "    dbfile.close()\n",
    "    \n",
    "def loadData():\n",
    "    # for reading\n",
    "    \n",
    "    dbfile = open(\"ExamplePickle\",\"rb\")\n",
    "    db = pickle.load(dbfile)\n",
    "    for key in db:\n",
    "        print(key, \"==>\", db[key])\n",
    "    dbfile.close()\n",
    "\n",
    "    \n",
    "if __name__ =='__main__':\n",
    "    storeData()\n",
    "    loadData()"
   ]
  },
  {
   "cell_type": "code",
   "execution_count": 112,
   "id": "c65c35ce",
   "metadata": {},
   "outputs": [
    {
     "name": "stdout",
     "output_type": "stream",
     "text": [
      "{\"name\": \"ravi\", \"age\": 21, \"Roll\": 30}\n"
     ]
    }
   ],
   "source": [
    "import json\n",
    "data = {\n",
    "    \"name\":\"ravi\",\n",
    "    \"age\":21,\n",
    "    \"Roll\":30\n",
    "}\n",
    "json_str = json.dumps(data)\n",
    "print(json_str)"
   ]
  },
  {
   "cell_type": "code",
   "execution_count": 113,
   "id": "bc15505b",
   "metadata": {},
   "outputs": [
    {
     "name": "stdout",
     "output_type": "stream",
     "text": [
      "{'name': 'ravi', 'age': 21, 'Roll': 30}\n"
     ]
    }
   ],
   "source": [
    "data1=json.loads(json_str)\n",
    "print(data1)"
   ]
  },
  {
   "cell_type": "code",
   "execution_count": 114,
   "id": "392a0b77",
   "metadata": {},
   "outputs": [],
   "source": [
    "with open(\"data.json\",\"w\") as f:\n",
    "    json.dump(data, f)"
   ]
  },
  {
   "cell_type": "code",
   "execution_count": 115,
   "id": "4c9fe9aa",
   "metadata": {},
   "outputs": [
    {
     "name": "stdout",
     "output_type": "stream",
     "text": [
      "{'name': 'ravi', 'age': 21, 'Roll': 30}\n"
     ]
    }
   ],
   "source": [
    "\n",
    "with open(\"data.json\",\"r\") as f:\n",
    "    g = json.load(f)\n",
    "    print(g)"
   ]
  },
  {
   "cell_type": "code",
   "execution_count": 116,
   "id": "95a4fd43",
   "metadata": {},
   "outputs": [
    {
     "data": {
      "text/plain": [
       "'false'"
      ]
     },
     "execution_count": 116,
     "metadata": {},
     "output_type": "execute_result"
    }
   ],
   "source": [
    "json.dumps(False)"
   ]
  },
  {
   "cell_type": "code",
   "execution_count": 117,
   "id": "48c1b69d",
   "metadata": {},
   "outputs": [
    {
     "data": {
      "text/plain": [
       "'{\"a\": true, \"b\": \"Hello\", \"c\": null}'"
      ]
     },
     "execution_count": 117,
     "metadata": {},
     "output_type": "execute_result"
    }
   ],
   "source": [
    "d = {\"a\":True, \"b\":\"Hello\", \"c\":None}\n",
    "json.dumps(d)"
   ]
  },
  {
   "cell_type": "code",
   "execution_count": null,
   "id": "8c4006d8",
   "metadata": {},
   "outputs": [],
   "source": []
  }
 ],
 "metadata": {
  "kernelspec": {
   "display_name": "Python 3 (ipykernel)",
   "language": "python",
   "name": "python3"
  },
  "language_info": {
   "codemirror_mode": {
    "name": "ipython",
    "version": 3
   },
   "file_extension": ".py",
   "mimetype": "text/x-python",
   "name": "python",
   "nbconvert_exporter": "python",
   "pygments_lexer": "ipython3",
   "version": "3.9.7"
  }
 },
 "nbformat": 4,
 "nbformat_minor": 5
}
